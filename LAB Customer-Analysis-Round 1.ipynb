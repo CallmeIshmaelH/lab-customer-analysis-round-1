{
 "cells": [
  {
   "cell_type": "markdown",
   "source": [
    "#LAB CUSTOMER ANALYSIS ROUND 1\r\n",
    "Instructions\r\n",
    "Read the three files into python as dataframes\r\n",
    "\r\n",
    "Show the DataFrame's shape.\r\n",
    "\r\n",
    "Standardize header names.\r\n",
    "\r\n",
    "Rearrange the columns in the dataframe as needed\r\n",
    "\r\n",
    "Concatenate the three dataframes\r\n",
    "\r\n",
    "Which columns are numerical?\r\n",
    "\r\n",
    "Which columns are categorical?\r\n",
    "\r\n",
    "Understand the meaning of all columns\r\n",
    "\r\n",
    "Perform the data cleaning operations mentioned so far in class\r\n",
    "\r\n",
    "Delete the column education and the number of open complaints from the dataframe.\r\n",
    "Correct the values in the column customer lifetime value. They are given as a percent, so multiply them by 100 and change dtype to numerical type.\r\n",
    "Check for duplicate rows in the data and remove if any.\r\n",
    "Filter out the data for customers who have an income of 0 or less."
   ],
   "metadata": {}
  },
  {
   "cell_type": "markdown",
   "source": [],
   "metadata": {}
  },
  {
   "cell_type": "code",
   "execution_count": 1,
   "source": [
    "# import the requisite libraries\r\n",
    "import pandas as pd\r\n",
    "import numpy as np\r\n",
    "\r\n",
    "# create data frames from the files \r\n",
    "file1 = pd.read_csv('C:/Users/Ish/Documents/Ironhack Bootcamp/Day 2/lab-customer-analysis-round-1/files_for_lab/csv_files/file1.csv')\r\n",
    "file2 = pd.read_csv('C:/Users/Ish/Documents/Ironhack Bootcamp/Day 2/lab-customer-analysis-round-1/files_for_lab/csv_files/file2.csv')\r\n",
    "file3 = pd.read_csv('C:/Users/Ish/Documents/Ironhack Bootcamp/Day 2/lab-customer-analysis-round-1/files_for_lab/csv_files/file3.csv')\r\n",
    "\r\n",
    "# show each dataframe's shape and the list of column names to standardize the column data#\r\n",
    "print(file1.shape, \"\\n\", file1.columns)\r\n",
    "print(file2.shape, \"\\n\", file2.columns)\r\n",
    "print(file3.shape, \"\\n\", file3.columns)\r\n"
   ],
   "outputs": [
    {
     "output_type": "stream",
     "name": "stdout",
     "text": [
      "(4008, 11) \n",
      " Index(['Customer', 'ST', 'GENDER', 'Education', 'Customer Lifetime Value',\n",
      "       'Income', 'Monthly Premium Auto', 'Number of Open Complaints',\n",
      "       'Policy Type', 'Vehicle Class', 'Total Claim Amount'],\n",
      "      dtype='object')\n",
      "(996, 11) \n",
      " Index(['Customer', 'ST', 'GENDER', 'Education', 'Customer Lifetime Value',\n",
      "       'Income', 'Monthly Premium Auto', 'Number of Open Complaints',\n",
      "       'Total Claim Amount', 'Policy Type', 'Vehicle Class'],\n",
      "      dtype='object')\n",
      "(7070, 11) \n",
      " Index(['Customer', 'State', 'Customer Lifetime Value', 'Education', 'Gender',\n",
      "       'Income', 'Monthly Premium Auto', 'Number of Open Complaints',\n",
      "       'Policy Type', 'Total Claim Amount', 'Vehicle Class'],\n",
      "      dtype='object')\n"
     ]
    }
   ],
   "metadata": {}
  },
  {
   "cell_type": "code",
   "execution_count": null,
   "source": [],
   "outputs": [],
   "metadata": {}
  },
  {
   "cell_type": "code",
   "execution_count": 2,
   "source": [
    "# Standardize header names\r\n",
    "# Set all header names to lowercase for ease of reference\r\n",
    "cols1 = []\r\n",
    "for c in file1.columns:\r\n",
    "    cols1.append(c.lower())\r\n",
    "\r\n",
    "cols2 = []\r\n",
    "for c in file2.columns:\r\n",
    "    cols2.append(c.lower())\r\n",
    "\r\n",
    "cols3 = []\r\n",
    "for c in file3.columns:\r\n",
    "    cols3.append(c.lower())\r\n",
    "\r\n",
    "\r\n",
    "#print(file1.columns)\r\n",
    "#print(file2.columns)\r\n",
    "#print(file3.columns)\r\n",
    "\r\n",
    "# check for headings that are not the same\r\n",
    "header_edit = []\r\n",
    "for column in cols2:\r\n",
    "    if column not in cols1 and column not in cols3:\r\n",
    "        header_edit.append(column)\r\n",
    "print(header_edit)\r\n",
    "\r\n",
    "for column in cols3:\r\n",
    "    if column not in cols1 and column not in cols2:\r\n",
    "        header_edit.append(column)\r\n",
    "print(header_edit)\r\n",
    "\r\n",
    "# rename the outstanding header\r\n",
    "cols3[1] = cols1[1]\r\n",
    "\r\n",
    "# apply changes to file columns\r\n",
    "file1.columns = cols1\r\n",
    "file2.columns = cols2\r\n",
    "file3.columns = cols3\r\n",
    "\r\n",
    "# create a list of the ordered column headers to create a standardardized order\r\n",
    "# set the columns of file2 and file 3 to the same order\r\n",
    "file2 = file2[['customer', 'st', 'gender', 'education', 'customer lifetime value',\r\n",
    "       'income', 'monthly premium auto', 'number of open complaints',\r\n",
    "       'policy type', 'vehicle class', 'total claim amount']]\r\n",
    "file3 = file3[['customer', 'st', 'gender', 'education', 'customer lifetime value',\r\n",
    "       'income', 'monthly premium auto', 'number of open complaints',\r\n",
    "       'policy type', 'vehicle class', 'total claim amount']]\r\n",
    "\r\n",
    "# check the dataframes \r\n",
    "print(\"File 1\\n\", file1.head())\r\n",
    "print(\"File 2\\n\", file2.head())\r\n",
    "print(\"File 3\\n\", file3.head())"
   ],
   "outputs": [
    {
     "output_type": "stream",
     "name": "stdout",
     "text": [
      "[]\n",
      "['state']\n",
      "File 1\n",
      "   customer          st gender             education customer lifetime value  \\\n",
      "0  RB50392  Washington    NaN                Master                     NaN   \n",
      "1  QZ44356     Arizona      F              Bachelor              697953.59%   \n",
      "2  AI49188      Nevada      F              Bachelor             1288743.17%   \n",
      "3  WW63253  California      M              Bachelor              764586.18%   \n",
      "4  GA49547  Washington      M  High School or Below              536307.65%   \n",
      "\n",
      "    income  monthly premium auto number of open complaints     policy type  \\\n",
      "0      0.0                1000.0                    1/0/00   Personal Auto   \n",
      "1      0.0                  94.0                    1/0/00   Personal Auto   \n",
      "2  48767.0                 108.0                    1/0/00   Personal Auto   \n",
      "3      0.0                 106.0                    1/0/00  Corporate Auto   \n",
      "4  36357.0                  68.0                    1/0/00   Personal Auto   \n",
      "\n",
      "   vehicle class  total claim amount  \n",
      "0  Four-Door Car            2.704934  \n",
      "1  Four-Door Car         1131.464935  \n",
      "2   Two-Door Car          566.472247  \n",
      "3            SUV          529.881344  \n",
      "4  Four-Door Car           17.269323  \n",
      "File 2\n",
      "   customer          st gender education customer lifetime value  income  \\\n",
      "0  GS98873     Arizona      F  Bachelor              323912.47%   16061   \n",
      "1  CW49887  California      F    Master              462680.11%   79487   \n",
      "2  MY31220  California      F   College              899704.02%   54230   \n",
      "3  UH35128      Oregon      F   College             2580706.30%   71210   \n",
      "4  WH52799     Arizona      F   College              380812.21%   94903   \n",
      "\n",
      "   monthly premium auto number of open complaints     policy type  \\\n",
      "0                    88                    1/0/00   Personal Auto   \n",
      "1                   114                    1/0/00    Special Auto   \n",
      "2                   112                    1/0/00   Personal Auto   \n",
      "3                   214                    1/1/00   Personal Auto   \n",
      "4                    94                    1/0/00  Corporate Auto   \n",
      "\n",
      "   vehicle class  total claim amount  \n",
      "0  Four-Door Car               633.6  \n",
      "1            SUV               547.2  \n",
      "2   Two-Door Car               537.6  \n",
      "3     Luxury Car              1027.2  \n",
      "4   Two-Door Car               451.2  \n",
      "File 3\n",
      "   customer          st gender             education  customer lifetime value  \\\n",
      "0  SA25987  Washington      M  High School or Below              3479.137523   \n",
      "1  TB86706     Arizona      M                Master              2502.637401   \n",
      "2  ZL73902      Nevada      F              Bachelor              3265.156348   \n",
      "3  KX23516  California      F  High School or Below              4455.843406   \n",
      "4  FN77294  California      M  High School or Below              7704.958480   \n",
      "\n",
      "   income  monthly premium auto  number of open complaints    policy type  \\\n",
      "0       0                   104                          0  Personal Auto   \n",
      "1       0                    66                          0  Personal Auto   \n",
      "2   25820                    82                          0  Personal Auto   \n",
      "3       0                   121                          0  Personal Auto   \n",
      "4   30366                   101                          2  Personal Auto   \n",
      "\n",
      "   vehicle class  total claim amount  \n",
      "0   Two-Door Car          499.200000  \n",
      "1   Two-Door Car            3.468912  \n",
      "2  Four-Door Car          393.600000  \n",
      "3            SUV          699.615192  \n",
      "4            SUV          484.800000  \n"
     ]
    }
   ],
   "metadata": {}
  },
  {
   "cell_type": "code",
   "execution_count": 3,
   "source": [
    "#Concatenate the three dataframes into a single dataframe\r\n",
    "customer_data = pd.concat([file1,file2,file3], axis = 0)\r\n",
    "\r\n",
    "# check new dataframe shape\r\n",
    "customer_data.shape\r\n"
   ],
   "outputs": [
    {
     "output_type": "execute_result",
     "data": {
      "text/plain": [
       "(12074, 11)"
      ]
     },
     "metadata": {},
     "execution_count": 3
    }
   ],
   "metadata": {}
  },
  {
   "cell_type": "code",
   "execution_count": 4,
   "source": [
    "# determine which columns are numerical\r\n",
    "print(customer_data.dtypes)\r\n",
    "\r\n",
    "# print the columns containing numerical data\r\n",
    "\r\n",
    "print('Numerical Data\\n',customer_data._get_numeric_data().head())\r\n",
    "\r\n",
    "# print the columns containing categorical data\r\n",
    "print('Categorical Data\\n',customer_data.select_dtypes('object').head())"
   ],
   "outputs": [
    {
     "output_type": "stream",
     "name": "stdout",
     "text": [
      "customer                      object\n",
      "st                            object\n",
      "gender                        object\n",
      "education                     object\n",
      "customer lifetime value       object\n",
      "income                       float64\n",
      "monthly premium auto         float64\n",
      "number of open complaints     object\n",
      "policy type                   object\n",
      "vehicle class                 object\n",
      "total claim amount           float64\n",
      "dtype: object\n",
      "Numerical Data\n",
      "     income  monthly premium auto  total claim amount\n",
      "0      0.0                1000.0            2.704934\n",
      "1      0.0                  94.0         1131.464935\n",
      "2  48767.0                 108.0          566.472247\n",
      "3      0.0                 106.0          529.881344\n",
      "4  36357.0                  68.0           17.269323\n",
      "Categorical Data\n",
      "   customer          st gender             education customer lifetime value  \\\n",
      "0  RB50392  Washington    NaN                Master                     NaN   \n",
      "1  QZ44356     Arizona      F              Bachelor              697953.59%   \n",
      "2  AI49188      Nevada      F              Bachelor             1288743.17%   \n",
      "3  WW63253  California      M              Bachelor              764586.18%   \n",
      "4  GA49547  Washington      M  High School or Below              536307.65%   \n",
      "\n",
      "  number of open complaints     policy type  vehicle class  \n",
      "0                    1/0/00   Personal Auto  Four-Door Car  \n",
      "1                    1/0/00   Personal Auto  Four-Door Car  \n",
      "2                    1/0/00   Personal Auto   Two-Door Car  \n",
      "3                    1/0/00  Corporate Auto            SUV  \n",
      "4                    1/0/00   Personal Auto  Four-Door Car  \n"
     ]
    }
   ],
   "metadata": {}
  },
  {
   "cell_type": "code",
   "execution_count": 5,
   "source": [
    "# Clean and transform the data\r\n",
    "# determine numbers of null values by column\r\n",
    "print('Data before removing empty rows:\\n',customer_data.shape)\r\n",
    "print(customer_data.isna().sum())\r\n",
    "\r\n",
    "#customer_data[customer_data['customer'].isna()==True].head(50) # checking rows that are null based on a specific column\r\n",
    "\r\n",
    "# There appear to be consistent missing values across all columns in the data set.\r\n",
    "# It would be best to drop these rows from the dataframe.\r\n",
    "customer_data = customer_data[customer_data['customer'].isna() == False]\r\n",
    "print('Data after removing empty rows:\\n', customer_data.shape)\r\n",
    "print(customer_data.isna().sum())\r\n",
    "\r\n",
    "# determine the percentage of null values after cleaning.customer_data\r\n",
    "nulls_df = pd.DataFrame(round(customer_data.isna().sum()/len(customer_data),4)*100)\r\n",
    "nulls_df \r\n",
    "\r\n"
   ],
   "outputs": [
    {
     "output_type": "stream",
     "name": "stdout",
     "text": [
      "Data before removing empty rows:\n",
      " (12074, 11)\n",
      "customer                     2937\n",
      "st                           2937\n",
      "gender                       3059\n",
      "education                    2937\n",
      "customer lifetime value      2944\n",
      "income                       2937\n",
      "monthly premium auto         2937\n",
      "number of open complaints    2937\n",
      "policy type                  2937\n",
      "vehicle class                2937\n",
      "total claim amount           2937\n",
      "dtype: int64\n",
      "Data after removing empty rows:\n",
      " (9137, 11)\n",
      "customer                       0\n",
      "st                             0\n",
      "gender                       122\n",
      "education                      0\n",
      "customer lifetime value        7\n",
      "income                         0\n",
      "monthly premium auto           0\n",
      "number of open complaints      0\n",
      "policy type                    0\n",
      "vehicle class                  0\n",
      "total claim amount             0\n",
      "dtype: int64\n"
     ]
    },
    {
     "output_type": "execute_result",
     "data": {
      "text/plain": [
       "                              0\n",
       "customer                   0.00\n",
       "st                         0.00\n",
       "gender                     1.34\n",
       "education                  0.00\n",
       "customer lifetime value    0.08\n",
       "income                     0.00\n",
       "monthly premium auto       0.00\n",
       "number of open complaints  0.00\n",
       "policy type                0.00\n",
       "vehicle class              0.00\n",
       "total claim amount         0.00"
      ],
      "text/html": [
       "<div>\n",
       "<style scoped>\n",
       "    .dataframe tbody tr th:only-of-type {\n",
       "        vertical-align: middle;\n",
       "    }\n",
       "\n",
       "    .dataframe tbody tr th {\n",
       "        vertical-align: top;\n",
       "    }\n",
       "\n",
       "    .dataframe thead th {\n",
       "        text-align: right;\n",
       "    }\n",
       "</style>\n",
       "<table border=\"1\" class=\"dataframe\">\n",
       "  <thead>\n",
       "    <tr style=\"text-align: right;\">\n",
       "      <th></th>\n",
       "      <th>0</th>\n",
       "    </tr>\n",
       "  </thead>\n",
       "  <tbody>\n",
       "    <tr>\n",
       "      <th>customer</th>\n",
       "      <td>0.00</td>\n",
       "    </tr>\n",
       "    <tr>\n",
       "      <th>st</th>\n",
       "      <td>0.00</td>\n",
       "    </tr>\n",
       "    <tr>\n",
       "      <th>gender</th>\n",
       "      <td>1.34</td>\n",
       "    </tr>\n",
       "    <tr>\n",
       "      <th>education</th>\n",
       "      <td>0.00</td>\n",
       "    </tr>\n",
       "    <tr>\n",
       "      <th>customer lifetime value</th>\n",
       "      <td>0.08</td>\n",
       "    </tr>\n",
       "    <tr>\n",
       "      <th>income</th>\n",
       "      <td>0.00</td>\n",
       "    </tr>\n",
       "    <tr>\n",
       "      <th>monthly premium auto</th>\n",
       "      <td>0.00</td>\n",
       "    </tr>\n",
       "    <tr>\n",
       "      <th>number of open complaints</th>\n",
       "      <td>0.00</td>\n",
       "    </tr>\n",
       "    <tr>\n",
       "      <th>policy type</th>\n",
       "      <td>0.00</td>\n",
       "    </tr>\n",
       "    <tr>\n",
       "      <th>vehicle class</th>\n",
       "      <td>0.00</td>\n",
       "    </tr>\n",
       "    <tr>\n",
       "      <th>total claim amount</th>\n",
       "      <td>0.00</td>\n",
       "    </tr>\n",
       "  </tbody>\n",
       "</table>\n",
       "</div>"
      ]
     },
     "metadata": {},
     "execution_count": 5
    }
   ],
   "metadata": {}
  },
  {
   "cell_type": "code",
   "execution_count": 6,
   "source": [
    "# determine total numbers of each gender and compare to determine which values to use to replace the null values\r\n",
    "print(customer_data.dtypes)\r\n",
    "print(customer_data['gender'].value_counts(dropna = False))\r\n",
    "\r\n",
    "# the data shows a slightly tendency for customers to also be Female, however the difference between female and male customer representation\r\n",
    "# is only about 2.2% .it is difficult to ascertain which should be used to replace null values.\r\n",
    "\r\n"
   ],
   "outputs": [
    {
     "output_type": "stream",
     "name": "stdout",
     "text": [
      "customer                      object\n",
      "st                            object\n",
      "gender                        object\n",
      "education                     object\n",
      "customer lifetime value       object\n",
      "income                       float64\n",
      "monthly premium auto         float64\n",
      "number of open complaints     object\n",
      "policy type                   object\n",
      "vehicle class                 object\n",
      "total claim amount           float64\n",
      "dtype: object\n",
      "F         4560\n",
      "M         4368\n",
      "NaN        122\n",
      "Male        40\n",
      "female      30\n",
      "Femal       17\n",
      "Name: gender, dtype: int64\n"
     ]
    }
   ],
   "metadata": {}
  },
  {
   "cell_type": "code",
   "execution_count": 7,
   "source": [
    "# drop 'education' and 'number of open complaints'\r\n",
    "customer_data = customer_data.drop(['education','number of open complaints'], axis = 1)\r\n",
    "customer_data.dtypes\r\n"
   ],
   "outputs": [
    {
     "output_type": "execute_result",
     "data": {
      "text/plain": [
       "customer                    object\n",
       "st                          object\n",
       "gender                      object\n",
       "customer lifetime value     object\n",
       "income                     float64\n",
       "monthly premium auto       float64\n",
       "policy type                 object\n",
       "vehicle class               object\n",
       "total claim amount         float64\n",
       "dtype: object"
      ]
     },
     "metadata": {},
     "execution_count": 7
    }
   ],
   "metadata": {}
  },
  {
   "cell_type": "code",
   "execution_count": 8,
   "source": [
    "# correct 'customer lifetime value' from a percentage, and change dtype to numerical data\r\n",
    "clv_corrected = list()\r\n",
    "for val in customer_data['customer lifetime value']:\r\n",
    "    if '%' in str(val):\r\n",
    "        val = val[:-1]\r\n",
    "        clv_corrected.append(val)\r\n",
    "    else:\r\n",
    "        clv_corrected.append(val)\r\n",
    "\r\n",
    "customer_data['customer lifetime value'] = clv_corrected\r\n",
    "\r\n",
    "customer_data['customer lifetime value'] = pd.to_numeric(customer_data['customer lifetime value'])*100\r\n",
    "\r\n",
    "customer_data['customer lifetime value'].head(10)"
   ],
   "outputs": [
    {
     "output_type": "execute_result",
     "data": {
      "text/plain": [
       "0            NaN\n",
       "1     69795359.0\n",
       "2    128874317.0\n",
       "3     76458618.0\n",
       "4     53630765.0\n",
       "5     82562978.0\n",
       "6     53808986.0\n",
       "7     72161003.0\n",
       "8    241275040.0\n",
       "9     73881781.0\n",
       "Name: customer lifetime value, dtype: float64"
      ]
     },
     "metadata": {},
     "execution_count": 8
    }
   ],
   "metadata": {}
  },
  {
   "cell_type": "code",
   "execution_count": 9,
   "source": [
    "# check for duplicate rows in the data. \r\n",
    "print('customer_data before dropping duplicates:',customer_data.shape)\r\n",
    "customer_data = customer_data.drop_duplicates()\r\n",
    "print('customer_data after dropping duplicates:',customer_data.shape)\r\n"
   ],
   "outputs": [
    {
     "output_type": "stream",
     "name": "stdout",
     "text": [
      "customer_data before dropping duplicates: (9137, 9)\n",
      "customer_data after dropping duplicates: (9134, 9)\n"
     ]
    }
   ],
   "metadata": {}
  },
  {
   "cell_type": "code",
   "execution_count": null,
   "source": [],
   "outputs": [],
   "metadata": {}
  }
 ],
 "metadata": {
  "orig_nbformat": 4,
  "language_info": {
   "name": "python",
   "version": "3.9.6",
   "mimetype": "text/x-python",
   "codemirror_mode": {
    "name": "ipython",
    "version": 3
   },
   "pygments_lexer": "ipython3",
   "nbconvert_exporter": "python",
   "file_extension": ".py"
  },
  "kernelspec": {
   "name": "python3",
   "display_name": "Python 3.9.6 64-bit"
  },
  "interpreter": {
   "hash": "aedf8f1d51000f588b88a278d8030ee8b8cb0ccbfbd1b6163ec7fb88fccbe87e"
  }
 },
 "nbformat": 4,
 "nbformat_minor": 2
}